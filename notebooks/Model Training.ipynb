{
 "cells": [
  {
   "cell_type": "code",
   "execution_count": 33,
   "id": "21b62f60",
   "metadata": {},
   "outputs": [],
   "source": [
    "import numpy as np\n",
    "import pandas as pd\n",
    "import matplotlib.pyplot as plt\n",
    "import seaborn as sns\n",
    "import warnings\n",
    "warnings.filterwarnings('ignore')\n",
    "%matplotlib inline"
   ]
  },
  {
   "cell_type": "code",
   "execution_count": null,
   "id": "eec5fa28",
   "metadata": {},
   "outputs": [],
   "source": [
    "# Load the dataset\n",
    "df = pd.read_csv('ML Project/cleaned_Algerian_forest_fire.csv')"
   ]
  },
  {
   "cell_type": "code",
   "execution_count": 35,
   "id": "f91f3b4c",
   "metadata": {},
   "outputs": [
    {
     "data": {
      "text/html": [
       "<div>\n",
       "<style scoped>\n",
       "    .dataframe tbody tr th:only-of-type {\n",
       "        vertical-align: middle;\n",
       "    }\n",
       "\n",
       "    .dataframe tbody tr th {\n",
       "        vertical-align: top;\n",
       "    }\n",
       "\n",
       "    .dataframe thead th {\n",
       "        text-align: right;\n",
       "    }\n",
       "</style>\n",
       "<table border=\"1\" class=\"dataframe\">\n",
       "  <thead>\n",
       "    <tr style=\"text-align: right;\">\n",
       "      <th></th>\n",
       "      <th>day</th>\n",
       "      <th>month</th>\n",
       "      <th>year</th>\n",
       "      <th>Temperature</th>\n",
       "      <th>RH</th>\n",
       "      <th>Ws</th>\n",
       "      <th>Rain</th>\n",
       "      <th>FFMC</th>\n",
       "      <th>DMC</th>\n",
       "      <th>DC</th>\n",
       "      <th>ISI</th>\n",
       "      <th>BUI</th>\n",
       "      <th>FWI</th>\n",
       "      <th>Classes</th>\n",
       "      <th>Region</th>\n",
       "    </tr>\n",
       "  </thead>\n",
       "  <tbody>\n",
       "    <tr>\n",
       "      <th>0</th>\n",
       "      <td>1</td>\n",
       "      <td>6</td>\n",
       "      <td>2012</td>\n",
       "      <td>29</td>\n",
       "      <td>57</td>\n",
       "      <td>18</td>\n",
       "      <td>0.0</td>\n",
       "      <td>65.7</td>\n",
       "      <td>3.4</td>\n",
       "      <td>7.6</td>\n",
       "      <td>1.3</td>\n",
       "      <td>3.4</td>\n",
       "      <td>0.5</td>\n",
       "      <td>not fire</td>\n",
       "      <td>0</td>\n",
       "    </tr>\n",
       "    <tr>\n",
       "      <th>1</th>\n",
       "      <td>2</td>\n",
       "      <td>6</td>\n",
       "      <td>2012</td>\n",
       "      <td>29</td>\n",
       "      <td>61</td>\n",
       "      <td>13</td>\n",
       "      <td>1.3</td>\n",
       "      <td>64.4</td>\n",
       "      <td>4.1</td>\n",
       "      <td>7.6</td>\n",
       "      <td>1.0</td>\n",
       "      <td>3.9</td>\n",
       "      <td>0.4</td>\n",
       "      <td>not fire</td>\n",
       "      <td>0</td>\n",
       "    </tr>\n",
       "    <tr>\n",
       "      <th>2</th>\n",
       "      <td>3</td>\n",
       "      <td>6</td>\n",
       "      <td>2012</td>\n",
       "      <td>26</td>\n",
       "      <td>82</td>\n",
       "      <td>22</td>\n",
       "      <td>13.1</td>\n",
       "      <td>47.1</td>\n",
       "      <td>2.5</td>\n",
       "      <td>7.1</td>\n",
       "      <td>0.3</td>\n",
       "      <td>2.7</td>\n",
       "      <td>0.1</td>\n",
       "      <td>not fire</td>\n",
       "      <td>0</td>\n",
       "    </tr>\n",
       "    <tr>\n",
       "      <th>3</th>\n",
       "      <td>4</td>\n",
       "      <td>6</td>\n",
       "      <td>2012</td>\n",
       "      <td>25</td>\n",
       "      <td>89</td>\n",
       "      <td>13</td>\n",
       "      <td>2.5</td>\n",
       "      <td>28.6</td>\n",
       "      <td>1.3</td>\n",
       "      <td>6.9</td>\n",
       "      <td>0.0</td>\n",
       "      <td>1.7</td>\n",
       "      <td>0.0</td>\n",
       "      <td>not fire</td>\n",
       "      <td>0</td>\n",
       "    </tr>\n",
       "    <tr>\n",
       "      <th>4</th>\n",
       "      <td>5</td>\n",
       "      <td>6</td>\n",
       "      <td>2012</td>\n",
       "      <td>27</td>\n",
       "      <td>77</td>\n",
       "      <td>16</td>\n",
       "      <td>0.0</td>\n",
       "      <td>64.8</td>\n",
       "      <td>3.0</td>\n",
       "      <td>14.2</td>\n",
       "      <td>1.2</td>\n",
       "      <td>3.9</td>\n",
       "      <td>0.5</td>\n",
       "      <td>not fire</td>\n",
       "      <td>0</td>\n",
       "    </tr>\n",
       "    <tr>\n",
       "      <th>...</th>\n",
       "      <td>...</td>\n",
       "      <td>...</td>\n",
       "      <td>...</td>\n",
       "      <td>...</td>\n",
       "      <td>...</td>\n",
       "      <td>...</td>\n",
       "      <td>...</td>\n",
       "      <td>...</td>\n",
       "      <td>...</td>\n",
       "      <td>...</td>\n",
       "      <td>...</td>\n",
       "      <td>...</td>\n",
       "      <td>...</td>\n",
       "      <td>...</td>\n",
       "      <td>...</td>\n",
       "    </tr>\n",
       "    <tr>\n",
       "      <th>238</th>\n",
       "      <td>26</td>\n",
       "      <td>9</td>\n",
       "      <td>2012</td>\n",
       "      <td>30</td>\n",
       "      <td>65</td>\n",
       "      <td>14</td>\n",
       "      <td>0.0</td>\n",
       "      <td>85.4</td>\n",
       "      <td>16.0</td>\n",
       "      <td>44.5</td>\n",
       "      <td>4.5</td>\n",
       "      <td>16.9</td>\n",
       "      <td>6.5</td>\n",
       "      <td>fire</td>\n",
       "      <td>1</td>\n",
       "    </tr>\n",
       "    <tr>\n",
       "      <th>239</th>\n",
       "      <td>27</td>\n",
       "      <td>9</td>\n",
       "      <td>2012</td>\n",
       "      <td>28</td>\n",
       "      <td>87</td>\n",
       "      <td>15</td>\n",
       "      <td>4.4</td>\n",
       "      <td>41.1</td>\n",
       "      <td>6.5</td>\n",
       "      <td>8.0</td>\n",
       "      <td>0.1</td>\n",
       "      <td>6.2</td>\n",
       "      <td>0.0</td>\n",
       "      <td>not fire</td>\n",
       "      <td>1</td>\n",
       "    </tr>\n",
       "    <tr>\n",
       "      <th>240</th>\n",
       "      <td>28</td>\n",
       "      <td>9</td>\n",
       "      <td>2012</td>\n",
       "      <td>27</td>\n",
       "      <td>87</td>\n",
       "      <td>29</td>\n",
       "      <td>0.5</td>\n",
       "      <td>45.9</td>\n",
       "      <td>3.5</td>\n",
       "      <td>7.9</td>\n",
       "      <td>0.4</td>\n",
       "      <td>3.4</td>\n",
       "      <td>0.2</td>\n",
       "      <td>not fire</td>\n",
       "      <td>1</td>\n",
       "    </tr>\n",
       "    <tr>\n",
       "      <th>241</th>\n",
       "      <td>29</td>\n",
       "      <td>9</td>\n",
       "      <td>2012</td>\n",
       "      <td>24</td>\n",
       "      <td>54</td>\n",
       "      <td>18</td>\n",
       "      <td>0.1</td>\n",
       "      <td>79.7</td>\n",
       "      <td>4.3</td>\n",
       "      <td>15.2</td>\n",
       "      <td>1.7</td>\n",
       "      <td>5.1</td>\n",
       "      <td>0.7</td>\n",
       "      <td>not fire</td>\n",
       "      <td>1</td>\n",
       "    </tr>\n",
       "    <tr>\n",
       "      <th>242</th>\n",
       "      <td>30</td>\n",
       "      <td>9</td>\n",
       "      <td>2012</td>\n",
       "      <td>24</td>\n",
       "      <td>64</td>\n",
       "      <td>15</td>\n",
       "      <td>0.2</td>\n",
       "      <td>67.3</td>\n",
       "      <td>3.8</td>\n",
       "      <td>16.5</td>\n",
       "      <td>1.2</td>\n",
       "      <td>4.8</td>\n",
       "      <td>0.5</td>\n",
       "      <td>not fire</td>\n",
       "      <td>1</td>\n",
       "    </tr>\n",
       "  </tbody>\n",
       "</table>\n",
       "<p>243 rows × 15 columns</p>\n",
       "</div>"
      ],
      "text/plain": [
       "     day  month  year  Temperature  RH  Ws  Rain  FFMC   DMC    DC  ISI   BUI  \\\n",
       "0      1      6  2012           29  57  18   0.0  65.7   3.4   7.6  1.3   3.4   \n",
       "1      2      6  2012           29  61  13   1.3  64.4   4.1   7.6  1.0   3.9   \n",
       "2      3      6  2012           26  82  22  13.1  47.1   2.5   7.1  0.3   2.7   \n",
       "3      4      6  2012           25  89  13   2.5  28.6   1.3   6.9  0.0   1.7   \n",
       "4      5      6  2012           27  77  16   0.0  64.8   3.0  14.2  1.2   3.9   \n",
       "..   ...    ...   ...          ...  ..  ..   ...   ...   ...   ...  ...   ...   \n",
       "238   26      9  2012           30  65  14   0.0  85.4  16.0  44.5  4.5  16.9   \n",
       "239   27      9  2012           28  87  15   4.4  41.1   6.5   8.0  0.1   6.2   \n",
       "240   28      9  2012           27  87  29   0.5  45.9   3.5   7.9  0.4   3.4   \n",
       "241   29      9  2012           24  54  18   0.1  79.7   4.3  15.2  1.7   5.1   \n",
       "242   30      9  2012           24  64  15   0.2  67.3   3.8  16.5  1.2   4.8   \n",
       "\n",
       "     FWI       Classes  Region  \n",
       "0    0.5   not fire          0  \n",
       "1    0.4   not fire          0  \n",
       "2    0.1   not fire          0  \n",
       "3    0.0   not fire          0  \n",
       "4    0.5   not fire          0  \n",
       "..   ...           ...     ...  \n",
       "238  6.5       fire          1  \n",
       "239  0.0   not fire          1  \n",
       "240  0.2   not fire          1  \n",
       "241  0.7   not fire          1  \n",
       "242  0.5  not fire           1  \n",
       "\n",
       "[243 rows x 15 columns]"
      ]
     },
     "execution_count": 35,
     "metadata": {},
     "output_type": "execute_result"
    }
   ],
   "source": [
    "df"
   ]
  },
  {
   "cell_type": "code",
   "execution_count": 36,
   "id": "6b10072b",
   "metadata": {},
   "outputs": [],
   "source": [
    "df.drop(['day', 'month', 'year'], axis=1, inplace=True)"
   ]
  },
  {
   "cell_type": "code",
   "execution_count": 37,
   "id": "a22d1dba",
   "metadata": {},
   "outputs": [
    {
     "data": {
      "text/html": [
       "<div>\n",
       "<style scoped>\n",
       "    .dataframe tbody tr th:only-of-type {\n",
       "        vertical-align: middle;\n",
       "    }\n",
       "\n",
       "    .dataframe tbody tr th {\n",
       "        vertical-align: top;\n",
       "    }\n",
       "\n",
       "    .dataframe thead th {\n",
       "        text-align: right;\n",
       "    }\n",
       "</style>\n",
       "<table border=\"1\" class=\"dataframe\">\n",
       "  <thead>\n",
       "    <tr style=\"text-align: right;\">\n",
       "      <th></th>\n",
       "      <th>Temperature</th>\n",
       "      <th>RH</th>\n",
       "      <th>Ws</th>\n",
       "      <th>Rain</th>\n",
       "      <th>FFMC</th>\n",
       "      <th>DMC</th>\n",
       "      <th>DC</th>\n",
       "      <th>ISI</th>\n",
       "      <th>BUI</th>\n",
       "      <th>FWI</th>\n",
       "      <th>Classes</th>\n",
       "      <th>Region</th>\n",
       "    </tr>\n",
       "  </thead>\n",
       "  <tbody>\n",
       "    <tr>\n",
       "      <th>0</th>\n",
       "      <td>29</td>\n",
       "      <td>57</td>\n",
       "      <td>18</td>\n",
       "      <td>0.0</td>\n",
       "      <td>65.7</td>\n",
       "      <td>3.4</td>\n",
       "      <td>7.6</td>\n",
       "      <td>1.3</td>\n",
       "      <td>3.4</td>\n",
       "      <td>0.5</td>\n",
       "      <td>not fire</td>\n",
       "      <td>0</td>\n",
       "    </tr>\n",
       "    <tr>\n",
       "      <th>1</th>\n",
       "      <td>29</td>\n",
       "      <td>61</td>\n",
       "      <td>13</td>\n",
       "      <td>1.3</td>\n",
       "      <td>64.4</td>\n",
       "      <td>4.1</td>\n",
       "      <td>7.6</td>\n",
       "      <td>1.0</td>\n",
       "      <td>3.9</td>\n",
       "      <td>0.4</td>\n",
       "      <td>not fire</td>\n",
       "      <td>0</td>\n",
       "    </tr>\n",
       "    <tr>\n",
       "      <th>2</th>\n",
       "      <td>26</td>\n",
       "      <td>82</td>\n",
       "      <td>22</td>\n",
       "      <td>13.1</td>\n",
       "      <td>47.1</td>\n",
       "      <td>2.5</td>\n",
       "      <td>7.1</td>\n",
       "      <td>0.3</td>\n",
       "      <td>2.7</td>\n",
       "      <td>0.1</td>\n",
       "      <td>not fire</td>\n",
       "      <td>0</td>\n",
       "    </tr>\n",
       "    <tr>\n",
       "      <th>3</th>\n",
       "      <td>25</td>\n",
       "      <td>89</td>\n",
       "      <td>13</td>\n",
       "      <td>2.5</td>\n",
       "      <td>28.6</td>\n",
       "      <td>1.3</td>\n",
       "      <td>6.9</td>\n",
       "      <td>0.0</td>\n",
       "      <td>1.7</td>\n",
       "      <td>0.0</td>\n",
       "      <td>not fire</td>\n",
       "      <td>0</td>\n",
       "    </tr>\n",
       "    <tr>\n",
       "      <th>4</th>\n",
       "      <td>27</td>\n",
       "      <td>77</td>\n",
       "      <td>16</td>\n",
       "      <td>0.0</td>\n",
       "      <td>64.8</td>\n",
       "      <td>3.0</td>\n",
       "      <td>14.2</td>\n",
       "      <td>1.2</td>\n",
       "      <td>3.9</td>\n",
       "      <td>0.5</td>\n",
       "      <td>not fire</td>\n",
       "      <td>0</td>\n",
       "    </tr>\n",
       "    <tr>\n",
       "      <th>...</th>\n",
       "      <td>...</td>\n",
       "      <td>...</td>\n",
       "      <td>...</td>\n",
       "      <td>...</td>\n",
       "      <td>...</td>\n",
       "      <td>...</td>\n",
       "      <td>...</td>\n",
       "      <td>...</td>\n",
       "      <td>...</td>\n",
       "      <td>...</td>\n",
       "      <td>...</td>\n",
       "      <td>...</td>\n",
       "    </tr>\n",
       "    <tr>\n",
       "      <th>238</th>\n",
       "      <td>30</td>\n",
       "      <td>65</td>\n",
       "      <td>14</td>\n",
       "      <td>0.0</td>\n",
       "      <td>85.4</td>\n",
       "      <td>16.0</td>\n",
       "      <td>44.5</td>\n",
       "      <td>4.5</td>\n",
       "      <td>16.9</td>\n",
       "      <td>6.5</td>\n",
       "      <td>fire</td>\n",
       "      <td>1</td>\n",
       "    </tr>\n",
       "    <tr>\n",
       "      <th>239</th>\n",
       "      <td>28</td>\n",
       "      <td>87</td>\n",
       "      <td>15</td>\n",
       "      <td>4.4</td>\n",
       "      <td>41.1</td>\n",
       "      <td>6.5</td>\n",
       "      <td>8.0</td>\n",
       "      <td>0.1</td>\n",
       "      <td>6.2</td>\n",
       "      <td>0.0</td>\n",
       "      <td>not fire</td>\n",
       "      <td>1</td>\n",
       "    </tr>\n",
       "    <tr>\n",
       "      <th>240</th>\n",
       "      <td>27</td>\n",
       "      <td>87</td>\n",
       "      <td>29</td>\n",
       "      <td>0.5</td>\n",
       "      <td>45.9</td>\n",
       "      <td>3.5</td>\n",
       "      <td>7.9</td>\n",
       "      <td>0.4</td>\n",
       "      <td>3.4</td>\n",
       "      <td>0.2</td>\n",
       "      <td>not fire</td>\n",
       "      <td>1</td>\n",
       "    </tr>\n",
       "    <tr>\n",
       "      <th>241</th>\n",
       "      <td>24</td>\n",
       "      <td>54</td>\n",
       "      <td>18</td>\n",
       "      <td>0.1</td>\n",
       "      <td>79.7</td>\n",
       "      <td>4.3</td>\n",
       "      <td>15.2</td>\n",
       "      <td>1.7</td>\n",
       "      <td>5.1</td>\n",
       "      <td>0.7</td>\n",
       "      <td>not fire</td>\n",
       "      <td>1</td>\n",
       "    </tr>\n",
       "    <tr>\n",
       "      <th>242</th>\n",
       "      <td>24</td>\n",
       "      <td>64</td>\n",
       "      <td>15</td>\n",
       "      <td>0.2</td>\n",
       "      <td>67.3</td>\n",
       "      <td>3.8</td>\n",
       "      <td>16.5</td>\n",
       "      <td>1.2</td>\n",
       "      <td>4.8</td>\n",
       "      <td>0.5</td>\n",
       "      <td>not fire</td>\n",
       "      <td>1</td>\n",
       "    </tr>\n",
       "  </tbody>\n",
       "</table>\n",
       "<p>243 rows × 12 columns</p>\n",
       "</div>"
      ],
      "text/plain": [
       "     Temperature  RH  Ws  Rain  FFMC   DMC    DC  ISI   BUI  FWI  \\\n",
       "0             29  57  18   0.0  65.7   3.4   7.6  1.3   3.4  0.5   \n",
       "1             29  61  13   1.3  64.4   4.1   7.6  1.0   3.9  0.4   \n",
       "2             26  82  22  13.1  47.1   2.5   7.1  0.3   2.7  0.1   \n",
       "3             25  89  13   2.5  28.6   1.3   6.9  0.0   1.7  0.0   \n",
       "4             27  77  16   0.0  64.8   3.0  14.2  1.2   3.9  0.5   \n",
       "..           ...  ..  ..   ...   ...   ...   ...  ...   ...  ...   \n",
       "238           30  65  14   0.0  85.4  16.0  44.5  4.5  16.9  6.5   \n",
       "239           28  87  15   4.4  41.1   6.5   8.0  0.1   6.2  0.0   \n",
       "240           27  87  29   0.5  45.9   3.5   7.9  0.4   3.4  0.2   \n",
       "241           24  54  18   0.1  79.7   4.3  15.2  1.7   5.1  0.7   \n",
       "242           24  64  15   0.2  67.3   3.8  16.5  1.2   4.8  0.5   \n",
       "\n",
       "          Classes  Region  \n",
       "0     not fire          0  \n",
       "1     not fire          0  \n",
       "2     not fire          0  \n",
       "3     not fire          0  \n",
       "4     not fire          0  \n",
       "..            ...     ...  \n",
       "238       fire          1  \n",
       "239   not fire          1  \n",
       "240   not fire          1  \n",
       "241   not fire          1  \n",
       "242  not fire           1  \n",
       "\n",
       "[243 rows x 12 columns]"
      ]
     },
     "execution_count": 37,
     "metadata": {},
     "output_type": "execute_result"
    }
   ],
   "source": [
    "df"
   ]
  },
  {
   "cell_type": "code",
   "execution_count": 38,
   "id": "f7b30568",
   "metadata": {},
   "outputs": [],
   "source": [
    "df['Classes'] = np.where(df['Classes'].str.contains('not fire'),1, 0)"
   ]
  },
  {
   "cell_type": "code",
   "execution_count": 39,
   "id": "121e520c",
   "metadata": {},
   "outputs": [
    {
     "data": {
      "text/plain": [
       "Classes\n",
       "0    137\n",
       "1    106\n",
       "Name: count, dtype: int64"
      ]
     },
     "execution_count": 39,
     "metadata": {},
     "output_type": "execute_result"
    }
   ],
   "source": [
    "df['Classes'].value_counts()"
   ]
  },
  {
   "cell_type": "code",
   "execution_count": 40,
   "id": "9a447035",
   "metadata": {},
   "outputs": [],
   "source": [
    "X = df.drop('FWI', axis=1)\n",
    "y = df['FWI']"
   ]
  },
  {
   "cell_type": "code",
   "execution_count": 41,
   "id": "83052530",
   "metadata": {},
   "outputs": [
    {
     "data": {
      "text/html": [
       "<div>\n",
       "<style scoped>\n",
       "    .dataframe tbody tr th:only-of-type {\n",
       "        vertical-align: middle;\n",
       "    }\n",
       "\n",
       "    .dataframe tbody tr th {\n",
       "        vertical-align: top;\n",
       "    }\n",
       "\n",
       "    .dataframe thead th {\n",
       "        text-align: right;\n",
       "    }\n",
       "</style>\n",
       "<table border=\"1\" class=\"dataframe\">\n",
       "  <thead>\n",
       "    <tr style=\"text-align: right;\">\n",
       "      <th></th>\n",
       "      <th>Temperature</th>\n",
       "      <th>RH</th>\n",
       "      <th>Ws</th>\n",
       "      <th>Rain</th>\n",
       "      <th>FFMC</th>\n",
       "      <th>DMC</th>\n",
       "      <th>DC</th>\n",
       "      <th>ISI</th>\n",
       "      <th>BUI</th>\n",
       "      <th>Classes</th>\n",
       "      <th>Region</th>\n",
       "    </tr>\n",
       "  </thead>\n",
       "  <tbody>\n",
       "    <tr>\n",
       "      <th>0</th>\n",
       "      <td>29</td>\n",
       "      <td>57</td>\n",
       "      <td>18</td>\n",
       "      <td>0.0</td>\n",
       "      <td>65.7</td>\n",
       "      <td>3.4</td>\n",
       "      <td>7.6</td>\n",
       "      <td>1.3</td>\n",
       "      <td>3.4</td>\n",
       "      <td>1</td>\n",
       "      <td>0</td>\n",
       "    </tr>\n",
       "    <tr>\n",
       "      <th>1</th>\n",
       "      <td>29</td>\n",
       "      <td>61</td>\n",
       "      <td>13</td>\n",
       "      <td>1.3</td>\n",
       "      <td>64.4</td>\n",
       "      <td>4.1</td>\n",
       "      <td>7.6</td>\n",
       "      <td>1.0</td>\n",
       "      <td>3.9</td>\n",
       "      <td>1</td>\n",
       "      <td>0</td>\n",
       "    </tr>\n",
       "    <tr>\n",
       "      <th>2</th>\n",
       "      <td>26</td>\n",
       "      <td>82</td>\n",
       "      <td>22</td>\n",
       "      <td>13.1</td>\n",
       "      <td>47.1</td>\n",
       "      <td>2.5</td>\n",
       "      <td>7.1</td>\n",
       "      <td>0.3</td>\n",
       "      <td>2.7</td>\n",
       "      <td>1</td>\n",
       "      <td>0</td>\n",
       "    </tr>\n",
       "    <tr>\n",
       "      <th>3</th>\n",
       "      <td>25</td>\n",
       "      <td>89</td>\n",
       "      <td>13</td>\n",
       "      <td>2.5</td>\n",
       "      <td>28.6</td>\n",
       "      <td>1.3</td>\n",
       "      <td>6.9</td>\n",
       "      <td>0.0</td>\n",
       "      <td>1.7</td>\n",
       "      <td>1</td>\n",
       "      <td>0</td>\n",
       "    </tr>\n",
       "    <tr>\n",
       "      <th>4</th>\n",
       "      <td>27</td>\n",
       "      <td>77</td>\n",
       "      <td>16</td>\n",
       "      <td>0.0</td>\n",
       "      <td>64.8</td>\n",
       "      <td>3.0</td>\n",
       "      <td>14.2</td>\n",
       "      <td>1.2</td>\n",
       "      <td>3.9</td>\n",
       "      <td>1</td>\n",
       "      <td>0</td>\n",
       "    </tr>\n",
       "    <tr>\n",
       "      <th>...</th>\n",
       "      <td>...</td>\n",
       "      <td>...</td>\n",
       "      <td>...</td>\n",
       "      <td>...</td>\n",
       "      <td>...</td>\n",
       "      <td>...</td>\n",
       "      <td>...</td>\n",
       "      <td>...</td>\n",
       "      <td>...</td>\n",
       "      <td>...</td>\n",
       "      <td>...</td>\n",
       "    </tr>\n",
       "    <tr>\n",
       "      <th>238</th>\n",
       "      <td>30</td>\n",
       "      <td>65</td>\n",
       "      <td>14</td>\n",
       "      <td>0.0</td>\n",
       "      <td>85.4</td>\n",
       "      <td>16.0</td>\n",
       "      <td>44.5</td>\n",
       "      <td>4.5</td>\n",
       "      <td>16.9</td>\n",
       "      <td>0</td>\n",
       "      <td>1</td>\n",
       "    </tr>\n",
       "    <tr>\n",
       "      <th>239</th>\n",
       "      <td>28</td>\n",
       "      <td>87</td>\n",
       "      <td>15</td>\n",
       "      <td>4.4</td>\n",
       "      <td>41.1</td>\n",
       "      <td>6.5</td>\n",
       "      <td>8.0</td>\n",
       "      <td>0.1</td>\n",
       "      <td>6.2</td>\n",
       "      <td>1</td>\n",
       "      <td>1</td>\n",
       "    </tr>\n",
       "    <tr>\n",
       "      <th>240</th>\n",
       "      <td>27</td>\n",
       "      <td>87</td>\n",
       "      <td>29</td>\n",
       "      <td>0.5</td>\n",
       "      <td>45.9</td>\n",
       "      <td>3.5</td>\n",
       "      <td>7.9</td>\n",
       "      <td>0.4</td>\n",
       "      <td>3.4</td>\n",
       "      <td>1</td>\n",
       "      <td>1</td>\n",
       "    </tr>\n",
       "    <tr>\n",
       "      <th>241</th>\n",
       "      <td>24</td>\n",
       "      <td>54</td>\n",
       "      <td>18</td>\n",
       "      <td>0.1</td>\n",
       "      <td>79.7</td>\n",
       "      <td>4.3</td>\n",
       "      <td>15.2</td>\n",
       "      <td>1.7</td>\n",
       "      <td>5.1</td>\n",
       "      <td>1</td>\n",
       "      <td>1</td>\n",
       "    </tr>\n",
       "    <tr>\n",
       "      <th>242</th>\n",
       "      <td>24</td>\n",
       "      <td>64</td>\n",
       "      <td>15</td>\n",
       "      <td>0.2</td>\n",
       "      <td>67.3</td>\n",
       "      <td>3.8</td>\n",
       "      <td>16.5</td>\n",
       "      <td>1.2</td>\n",
       "      <td>4.8</td>\n",
       "      <td>1</td>\n",
       "      <td>1</td>\n",
       "    </tr>\n",
       "  </tbody>\n",
       "</table>\n",
       "<p>243 rows × 11 columns</p>\n",
       "</div>"
      ],
      "text/plain": [
       "     Temperature  RH  Ws  Rain  FFMC   DMC    DC  ISI   BUI  Classes  Region\n",
       "0             29  57  18   0.0  65.7   3.4   7.6  1.3   3.4        1       0\n",
       "1             29  61  13   1.3  64.4   4.1   7.6  1.0   3.9        1       0\n",
       "2             26  82  22  13.1  47.1   2.5   7.1  0.3   2.7        1       0\n",
       "3             25  89  13   2.5  28.6   1.3   6.9  0.0   1.7        1       0\n",
       "4             27  77  16   0.0  64.8   3.0  14.2  1.2   3.9        1       0\n",
       "..           ...  ..  ..   ...   ...   ...   ...  ...   ...      ...     ...\n",
       "238           30  65  14   0.0  85.4  16.0  44.5  4.5  16.9        0       1\n",
       "239           28  87  15   4.4  41.1   6.5   8.0  0.1   6.2        1       1\n",
       "240           27  87  29   0.5  45.9   3.5   7.9  0.4   3.4        1       1\n",
       "241           24  54  18   0.1  79.7   4.3  15.2  1.7   5.1        1       1\n",
       "242           24  64  15   0.2  67.3   3.8  16.5  1.2   4.8        1       1\n",
       "\n",
       "[243 rows x 11 columns]"
      ]
     },
     "execution_count": 41,
     "metadata": {},
     "output_type": "execute_result"
    }
   ],
   "source": [
    "X"
   ]
  },
  {
   "cell_type": "code",
   "execution_count": 42,
   "id": "cf2fc1c5",
   "metadata": {},
   "outputs": [
    {
     "data": {
      "text/plain": [
       "0      0.5\n",
       "1      0.4\n",
       "2      0.1\n",
       "3      0.0\n",
       "4      0.5\n",
       "      ... \n",
       "238    6.5\n",
       "239    0.0\n",
       "240    0.2\n",
       "241    0.7\n",
       "242    0.5\n",
       "Name: FWI, Length: 243, dtype: float64"
      ]
     },
     "execution_count": 42,
     "metadata": {},
     "output_type": "execute_result"
    }
   ],
   "source": [
    "y"
   ]
  },
  {
   "cell_type": "code",
   "execution_count": 43,
   "id": "7f2a48a2",
   "metadata": {},
   "outputs": [],
   "source": [
    "from sklearn.model_selection import train_test_split\n",
    "X_train, X_test, y_train, y_test = train_test_split(X, y, test_size=0.25, random_state=42)"
   ]
  },
  {
   "cell_type": "code",
   "execution_count": 44,
   "id": "f1da1c0d",
   "metadata": {},
   "outputs": [
    {
     "data": {
      "text/plain": [
       "((182, 11), (61, 11), (182,), (61,))"
      ]
     },
     "execution_count": 44,
     "metadata": {},
     "output_type": "execute_result"
    }
   ],
   "source": [
    "X_train.shape, X_test.shape, y_train.shape, y_test.shape"
   ]
  },
  {
   "cell_type": "code",
   "execution_count": 45,
   "id": "ce5909ac",
   "metadata": {},
   "outputs": [
    {
     "data": {
      "text/plain": [
       "Text(0.5, 1.0, 'Correlation Matrix')"
      ]
     },
     "execution_count": 45,
     "metadata": {},
     "output_type": "execute_result"
    },
    {
     "data": {
      "image/png": "[encoded data removed]",
      "text/plain": [
       "<Figure size 1200x800 with 2 Axes>"
      ]
     },
     "metadata": {},
     "output_type": "display_data"
    }
   ],
   "source": [
    "# Check for multicollinearity\n",
    "plt.figure(figsize=(12, 8))\n",
    "corr = X_train.corr()\n",
    "sns.heatmap(corr, annot=True, fmt='.2f', cmap='coolwarm', square=True)\n",
    "plt.title('Correlation Matrix')"
   ]
  },
  {
   "cell_type": "code",
   "execution_count": 46,
   "id": "b4936085",
   "metadata": {},
   "outputs": [],
   "source": [
    "def correlation(dataset, threshold):\n",
    "    col_corr = set()  # Set of all the names of correlated columns\n",
    "    corr_matrix = dataset.corr()\n",
    "    for i in range(len(corr_matrix.columns)):\n",
    "        for j in range(i):\n",
    "            if abs(corr_matrix.iloc[i, j]) > threshold:  # we are interested in absolute correlation\n",
    "                colname = corr_matrix.columns[i]  # getting the name of column\n",
    "                col_corr.add(colname)\n",
    "    return col_corr"
   ]
  },
  {
   "cell_type": "code",
   "execution_count": 47,
   "id": "db796493",
   "metadata": {},
   "outputs": [],
   "source": [
    "corr_features = correlation(X_train, 0.85) "
   ]
  },
  {
   "cell_type": "code",
   "execution_count": 48,
   "id": "6ff520cc",
   "metadata": {},
   "outputs": [
    {
     "data": {
      "text/plain": [
       "((182, 9), (61, 9))"
      ]
     },
     "execution_count": 48,
     "metadata": {},
     "output_type": "execute_result"
    }
   ],
   "source": [
    "# Drop highly correlated features\n",
    "X_train.drop(corr_features, axis=1, inplace=True)\n",
    "X_test.drop(corr_features, axis=1, inplace=True)\n",
    "X_train.shape, X_test.shape"
   ]
  },
  {
   "cell_type": "code",
   "execution_count": 49,
   "id": "a378c385",
   "metadata": {},
   "outputs": [
    {
     "data": {
      "text/plain": [
       "((182, 9), (61, 9))"
      ]
     },
     "execution_count": 49,
     "metadata": {},
     "output_type": "execute_result"
    }
   ],
   "source": [
    "# Feature scaling\n",
    "from sklearn.preprocessing import StandardScaler\n",
    "scaler = StandardScaler()\n",
    "X_train = scaler.fit_transform(X_train)\n",
    "X_test = scaler.transform(X_test)\n",
    "X_train.shape, X_test.shape\n"
   ]
  },
  {
   "cell_type": "code",
   "execution_count": 50,
   "id": "73291b89",
   "metadata": {},
   "outputs": [
    {
     "data": {
      "text/plain": [
       "array([[-0.84284248,  0.78307967,  1.29972026, ..., -0.62963326,\n",
       "         1.10431526, -0.98907071],\n",
       "       [-0.30175842,  0.64950844, -0.59874754, ..., -0.93058524,\n",
       "         1.10431526,  1.01105006],\n",
       "       [ 2.13311985, -2.08870172, -0.21905398, ...,  2.7271388 ,\n",
       "        -0.90553851,  1.01105006],\n",
       "       ...,\n",
       "       [-1.9250106 ,  0.9166509 ,  0.54033314, ..., -1.06948615,\n",
       "         1.10431526, -0.98907071],\n",
       "       [ 0.50986767, -0.21870454,  0.16063958, ...,  0.5973248 ,\n",
       "        -0.90553851,  1.01105006],\n",
       "       [-0.57230045,  0.98343651,  2.05910739, ..., -0.86113478,\n",
       "         1.10431526, -0.98907071]], shape=(182, 9))"
      ]
     },
     "execution_count": 50,
     "metadata": {},
     "output_type": "execute_result"
    }
   ],
   "source": [
    "X_train"
   ]
  },
  {
   "cell_type": "code",
   "execution_count": 51,
   "id": "95e7d6ba",
   "metadata": {},
   "outputs": [
    {
     "data": {
      "image/png": "[encoded data removed]",
      "text/plain": [
       "<Figure size 1200x600 with 3 Axes>"
      ]
     },
     "metadata": {},
     "output_type": "display_data"
    }
   ],
   "source": [
    "# Boxplot to understand Effect of Scaling\n",
    "plt.subplots(figsize=(12, 6))\n",
    "plt.subplot(1, 2, 1)\n",
    "sns.boxplot(data=X_train)\n",
    "plt.title('Boxplot of Features After Scaling')\n",
    "# Check for outliers after scaling\n",
    "plt.subplot(1, 2, 2)\n",
    "sns.boxplot(data=X_test)\n",
    "plt.title('Boxplot of Features After Scaling')\n",
    "plt.show()"
   ]
  },
  {
   "cell_type": "markdown",
   "id": "a39e4b9c",
   "metadata": {},
   "source": [
    "## Linear Regression Model"
   ]
  },
  {
   "cell_type": "code",
   "execution_count": 52,
   "id": "e0341d5b",
   "metadata": {},
   "outputs": [],
   "source": [
    "from sklearn.linear_model import LinearRegression\n",
    "from sklearn.metrics import mean_squared_error, r2_score, mean_absolute_error"
   ]
  },
  {
   "cell_type": "code",
   "execution_count": 53,
   "id": "00739fc0",
   "metadata": {},
   "outputs": [
    {
     "name": "stdout",
     "output_type": "stream",
     "text": [
      "Coefficients: [-0.03634495 -0.17441065  0.00703214 -0.04108155 -0.82319823  3.6982583\n",
      "  4.84057298 -0.40422124 -0.39259928]\n",
      "Intercept: 7.156043956043957\n",
      "Mean Squared Error: 0.6742766873791585\n",
      "R^2 Score: 0.9847657384266951\n",
      "Mean Absolute Error: 0.5468236465249974\n"
     ]
    }
   ],
   "source": [
    "lin_reg = LinearRegression()\n",
    "lin_reg.fit(X_train, y_train)\n",
    "y_pred = lin_reg.predict(X_test)\n",
    "# Evaluate the model\n",
    "print(\"Coefficients:\", lin_reg.coef_)\n",
    "print(\"Intercept:\", lin_reg.intercept_)\n",
    "mse = mean_squared_error(y_test, y_pred)\n",
    "r2 = r2_score(y_test, y_pred)\n",
    "mae = mean_absolute_error(y_test, y_pred)\n",
    "print(f'Mean Squared Error: {mse}')\n",
    "print(f'R^2 Score: {r2}')\n",
    "print(f'Mean Absolute Error: {mae}')"
   ]
  },
  {
   "cell_type": "code",
   "execution_count": 54,
   "id": "5cb2804f",
   "metadata": {},
   "outputs": [
    {
     "data": {
      "text/plain": [
       "<matplotlib.collections.PathCollection at 0x16541b3d460>"
      ]
     },
     "execution_count": 54,
     "metadata": {},
     "output_type": "execute_result"
    },
    {
     "data": {
      "image/png": "[encoded data removed]",
      "text/plain": [
       "<Figure size 640x480 with 1 Axes>"
      ]
     },
     "metadata": {},
     "output_type": "display_data"
    }
   ],
   "source": [
    "plt.scatter(y_test, y_pred)"
   ]
  },
  {
   "cell_type": "code",
   "execution_count": 55,
   "id": "c1d9473e",
   "metadata": {},
   "outputs": [
    {
     "name": "stdout",
     "output_type": "stream",
     "text": [
      "Lasso Mean Squared Error: 2.2483458918974772\n",
      "Lasso R^2 Score: 0.9492020263112388\n",
      "Lasso Mean Absolute Error: 1.133175994914409\n"
     ]
    },
    {
     "data": {
      "text/plain": [
       "<matplotlib.collections.PathCollection at 0x16541b86810>"
      ]
     },
     "execution_count": 55,
     "metadata": {},
     "output_type": "execute_result"
    },
    {
     "data": {
      "image/png": "[encoded data removed]",
      "text/plain": [
       "<Figure size 640x480 with 1 Axes>"
      ]
     },
     "metadata": {},
     "output_type": "display_data"
    }
   ],
   "source": [
    "## Lasso Regression Model\n",
    "from sklearn.linear_model import Lasso\n",
    "lasso_reg = Lasso()\n",
    "lasso_reg.fit(X_train, y_train)\n",
    "y_pred_lasso = lasso_reg.predict(X_test)\n",
    "# Evaluate the Lasso model\n",
    "mse_lasso = mean_squared_error(y_test, y_pred_lasso)\n",
    "r2_lasso = r2_score(y_test, y_pred_lasso)\n",
    "mae_lasso = mean_absolute_error(y_test, y_pred_lasso)\n",
    "print(f'Lasso Mean Squared Error: {mse_lasso}')\n",
    "print(f'Lasso R^2 Score: {r2_lasso}')\n",
    "print(f'Lasso Mean Absolute Error: {mae_lasso}')\n",
    "plt.scatter(y_test, y_pred_lasso)\n"
   ]
  },
  {
   "cell_type": "code",
   "execution_count": 69,
   "id": "698bbd47",
   "metadata": {},
   "outputs": [
    {
     "name": "stdout",
     "output_type": "stream",
     "text": [
      "Ridge Mean Squared Error: 0.6949198918152091\n",
      "Ridge R^2 Score: 0.9842993364555512\n",
      "Ridge Mean Absolute Error: 0.564230534010571\n"
     ]
    },
    {
     "data": {
      "text/plain": [
       "{'alpha': 1.0,\n",
       " 'copy_X': True,\n",
       " 'fit_intercept': True,\n",
       " 'max_iter': None,\n",
       " 'positive': False,\n",
       " 'random_state': None,\n",
       " 'solver': 'auto',\n",
       " 'tol': 0.0001}"
      ]
     },
     "execution_count": 69,
     "metadata": {},
     "output_type": "execute_result"
    },
    {
     "data": {
      "image/png": "[encoded data removed]",
      "text/plain": [
       "<Figure size 640x480 with 1 Axes>"
      ]
     },
     "metadata": {},
     "output_type": "display_data"
    }
   ],
   "source": [
    "# Ridge Regression Model\n",
    "from sklearn.linear_model import Ridge\n",
    "ridge_reg = Ridge()\n",
    "ridge_reg.fit(X_train, y_train)\n",
    "y_pred_ridge = ridge_reg.predict(X_test)\n",
    "# Evaluate the Ridge model\n",
    "mse_ridge = mean_squared_error(y_test, y_pred_ridge)\n",
    "r2_ridge = r2_score(y_test, y_pred_ridge)\n",
    "mae_ridge = mean_absolute_error(y_test, y_pred_ridge)\n",
    "print(f'Ridge Mean Squared Error: {mse_ridge}')\n",
    "print(f'Ridge R^2 Score: {r2_ridge}')\n",
    "print(f'Ridge Mean Absolute Error: {mae_ridge}')\n",
    "plt.scatter(y_test, y_pred_ridge)\n",
    "ridge_reg.get_params()"
   ]
  },
  {
   "cell_type": "code",
   "execution_count": 70,
   "id": "2dfff030",
   "metadata": {},
   "outputs": [
    {
     "data": {
      "image/png": "[encoded data removed]",
      "text/plain": [
       "<Figure size 640x480 with 1 Axes>"
      ]
     },
     "metadata": {},
     "output_type": "display_data"
    },
    {
     "name": "stdout",
     "output_type": "stream",
     "text": [
      "Mean Squared Error: 0.6949198918152091\n",
      "R^2 Score: 0.9842993364555512\n",
      "Mean Absolute Error: 0.564230534010571\n"
     ]
    },
    {
     "data": {
      "text/plain": [
       "{'alpha_per_target': False,\n",
       " 'alphas': (0.1, 1.0, 10.0),\n",
       " 'cv': 5,\n",
       " 'fit_intercept': True,\n",
       " 'gcv_mode': None,\n",
       " 'scoring': None,\n",
       " 'store_cv_results': None,\n",
       " 'store_cv_values': 'deprecated'}"
      ]
     },
     "execution_count": 70,
     "metadata": {},
     "output_type": "execute_result"
    }
   ],
   "source": [
    "from sklearn.linear_model import RidgeCV\n",
    "ridge_cv_model = RidgeCV(cv=5)\n",
    "ridge_cv_model.fit(X_train, y_train)\n",
    "y_pred_ridge_cv = ridge_cv_model.predict(X_test)\n",
    "plt.scatter(y_test, y_pred_ridge_cv)\n",
    "plt.xlabel('Actual FWI')\n",
    "plt.ylabel('Predicted FWI')\n",
    "plt.title('Ridge Regression: Actual vs Predicted FWI')\n",
    "plt.show()\n",
    "# Evaluate the model\n",
    "mse = mean_squared_error(y_test, y_pred_ridge_cv)\n",
    "r2 = r2_score(y_test, y_pred_ridge_cv)\n",
    "mae = mean_absolute_error(y_test, y_pred_ridge_cv)\n",
    "print(f'Mean Squared Error: {mse}')\n",
    "print(f'R^2 Score: {r2}')\n",
    "print(f'Mean Absolute Error: {mae}')\n",
    "ridge_cv_model.get_params()"
   ]
  },
  {
   "cell_type": "code",
   "execution_count": 58,
   "id": "3413c934",
   "metadata": {},
   "outputs": [
    {
     "name": "stdout",
     "output_type": "stream",
     "text": [
      "ElasticNet Mean Squared Error: 5.517251101025224\n",
      "ElasticNet R^2 Score: 0.8753460589519703\n"
     ]
    },
    {
     "data": {
      "text/plain": [
       "<matplotlib.collections.PathCollection at 0x16541a192b0>"
      ]
     },
     "execution_count": 58,
     "metadata": {},
     "output_type": "execute_result"
    },
    {
     "data": {
      "image/png": "[encoded data removed]",
      "text/plain": [
       "<Figure size 640x480 with 1 Axes>"
      ]
     },
     "metadata": {},
     "output_type": "display_data"
    }
   ],
   "source": [
    "# ElasticNet Regression Model\n",
    "from sklearn.linear_model import ElasticNet\n",
    "elastic_net_reg = ElasticNet()\n",
    "elastic_net_reg.fit(X_train, y_train)\n",
    "y_pred_elastic = elastic_net_reg.predict(X_test)\n",
    "# Evaluate the ElasticNet model\n",
    "mse_elastic = mean_squared_error(y_test, y_pred_elastic)\n",
    "r2_elastic = r2_score(y_test, y_pred_elastic)\n",
    "print(f'ElasticNet Mean Squared Error: {mse_elastic}')\n",
    "print(f'ElasticNet R^2 Score: {r2_elastic}')\n",
    "plt.scatter(y_test, y_pred_elastic)\n"
   ]
  },
  {
   "cell_type": "code",
   "execution_count": 59,
   "id": "72db6e55",
   "metadata": {},
   "outputs": [],
   "source": [
    "from sklearn.linear_model import LassoCV\n",
    "LassoCV_model = LassoCV(cv=6)\n",
    "LassoCV_model.fit(X_train, y_train)\n",
    "y_pred_lasso_cv = LassoCV_model.predict(X_test)"
   ]
  },
  {
   "cell_type": "code",
   "execution_count": 60,
   "id": "14f884c1",
   "metadata": {},
   "outputs": [
    {
     "data": {
      "text/plain": [
       "array([ 8.19555311,  7.70455689, -0.29888032,  4.5282181 ,  6.72954405,\n",
       "        1.60508218,  2.13761649,  7.66162358,  1.86784931,  3.30847288,\n",
       "        0.50523996,  9.83190953,  9.32557595, 17.02176856, 18.41154124,\n",
       "        1.42828059,  1.66521276, -0.3214228 ,  7.26966553,  3.06340237,\n",
       "        1.73918517,  0.21424021,  6.49542793,  0.20775788, 21.06162852,\n",
       "        5.09849825,  5.88447159,  9.79678352, -0.36785644,  9.87780812,\n",
       "        6.71184085, -0.39278425, 10.3542873 , 14.52241971,  1.5573391 ,\n",
       "        0.6179469 ,  2.03553215,  5.98138401, -0.5314512 , -0.4462941 ,\n",
       "        6.55824357,  1.90553705,  8.50171056, -0.54489611, 15.42185534,\n",
       "        8.34101446,  8.41663106,  1.42955402, 13.01640206,  1.1805452 ,\n",
       "       29.26522317,  5.49106914, 17.20659346, 19.40616071, 13.7883148 ,\n",
       "       16.14089345,  0.81821419,  9.04796366,  3.75025722, 14.48478042,\n",
       "        5.18855625])"
      ]
     },
     "execution_count": 60,
     "metadata": {},
     "output_type": "execute_result"
    }
   ],
   "source": [
    "y_pred_lasso_cv"
   ]
  },
  {
   "cell_type": "code",
   "execution_count": 61,
   "id": "b2f4b8e9",
   "metadata": {},
   "outputs": [
    {
     "data": {
      "text/plain": [
       "np.float64(0.026574912410780367)"
      ]
     },
     "execution_count": 61,
     "metadata": {},
     "output_type": "execute_result"
    }
   ],
   "source": [
    "LassoCV_model.alpha_"
   ]
  },
  {
   "cell_type": "code",
   "execution_count": 62,
   "id": "63c65a5e",
   "metadata": {},
   "outputs": [
    {
     "data": {
      "text/plain": [
       "array([7.05853002, 6.58280872, 6.13914944, 5.72539132, 5.33951911,\n",
       "       4.97965339, 4.64404142, 4.33104857, 4.03915039, 3.76692517,\n",
       "       3.51304702, 3.27627941, 3.05546914, 2.84954075, 2.65749124,\n",
       "       2.47838523, 2.31135036, 2.15557308, 2.01029467, 1.87480753,\n",
       "       1.74845178, 1.63061198, 1.52071419, 1.41822315, 1.32263965,\n",
       "       1.23349817, 1.15036452, 1.0728338 , 1.00052839, 0.93309613,\n",
       "       0.87020857, 0.81155943, 0.75686304, 0.705853  , 0.65828087,\n",
       "       0.61391494, 0.57253913, 0.53395191, 0.49796534, 0.46440414,\n",
       "       0.43310486, 0.40391504, 0.37669252, 0.3513047 , 0.32762794,\n",
       "       0.30554691, 0.28495408, 0.26574912, 0.24783852, 0.23113504,\n",
       "       0.21555731, 0.20102947, 0.18748075, 0.17484518, 0.1630612 ,\n",
       "       0.15207142, 0.14182231, 0.13226397, 0.12334982, 0.11503645,\n",
       "       0.10728338, 0.10005284, 0.09330961, 0.08702086, 0.08115594,\n",
       "       0.0756863 , 0.0705853 , 0.06582809, 0.06139149, 0.05725391,\n",
       "       0.05339519, 0.04979653, 0.04644041, 0.04331049, 0.0403915 ,\n",
       "       0.03766925, 0.03513047, 0.03276279, 0.03055469, 0.02849541,\n",
       "       0.02657491, 0.02478385, 0.0231135 , 0.02155573, 0.02010295,\n",
       "       0.01874808, 0.01748452, 0.01630612, 0.01520714, 0.01418223,\n",
       "       0.0132264 , 0.01233498, 0.01150365, 0.01072834, 0.01000528,\n",
       "       0.00933096, 0.00870209, 0.00811559, 0.00756863, 0.00705853])"
      ]
     },
     "execution_count": 62,
     "metadata": {},
     "output_type": "execute_result"
    }
   ],
   "source": [
    "LassoCV_model.alphas_"
   ]
  },
  {
   "cell_type": "code",
   "execution_count": 63,
   "id": "cde7eaff",
   "metadata": {},
   "outputs": [
    {
     "data": {
      "text/plain": [
       "array([[52.40172359, 77.79919658, 40.78996202, 87.6913129 , 51.17143793,\n",
       "        38.46373304],\n",
       "       [46.50180849, 76.81768562, 35.60089633, 87.6913129 , 46.46698245,\n",
       "        33.9073384 ],\n",
       "       [40.90575515, 68.64864255, 30.78459883, 80.90348764, 42.33625573,\n",
       "        29.55640903],\n",
       "       [35.865109  , 60.72740761, 26.64106213, 72.16108355, 38.7071596 ,\n",
       "        25.5451923 ],\n",
       "       [31.47045595, 53.66642991, 23.10773732, 63.7726869 , 35.51680947,\n",
       "        22.07770134],\n",
       "       [27.6382651 , 47.4867413 , 20.1003045 , 56.43006153, 32.71034616,\n",
       "        19.08160565],\n",
       "       [24.2961827 , 42.07602973, 17.54566152, 50.00006787, 28.491     ,\n",
       "        16.49403914],\n",
       "       [21.38086657, 37.33637861, 15.38104924, 44.36655949, 24.72325504,\n",
       "        14.26082467],\n",
       "       [18.83730573, 33.18299919, 13.55165   , 39.42898782, 21.46383115,\n",
       "        12.33450903],\n",
       "       [16.61745675, 29.54145467, 12.01021165, 35.09905103, 18.64682746,\n",
       "        10.67403856],\n",
       "       [14.67997371, 26.34704238, 10.71587874, 31.29999582, 16.2127219 ,\n",
       "         9.24377971],\n",
       "       [12.98838721, 23.5433549 ,  9.63307677, 27.96460098, 14.11056371,\n",
       "         8.01270327],\n",
       "       [11.51110443, 21.08103369,  8.73185708, 25.03515645, 12.29611204,\n",
       "         6.95420721],\n",
       "       [10.22061831, 18.91756184,  7.98560449, 22.46042962, 10.73095612,\n",
       "         6.04488294],\n",
       "       [ 9.09297721, 17.01532164,  7.37160121, 20.19602723,  9.38123019,\n",
       "         5.26453888],\n",
       "       [ 8.10732372, 15.34167313,  6.87025945, 18.20321657,  8.21911731,\n",
       "         4.5956649 ],\n",
       "       [ 7.24535477, 13.86813448,  6.46470192, 16.44819618,  7.21888451,\n",
       "         4.02307942],\n",
       "       [ 6.49154353, 12.56984653,  6.14039813, 14.90146123,  6.35873695,\n",
       "         3.53362294],\n",
       "       [ 5.8319518 , 11.42510682,  5.88450223, 13.53695133,  5.61976766,\n",
       "         3.11587134],\n",
       "       [ 5.25457443, 10.41485086,  5.68698753, 12.33279886,  4.98557682,\n",
       "         2.75999846],\n",
       "       [ 4.74895216,  9.52277028,  5.53826155, 11.26901728,  4.44194224,\n",
       "         2.45741224],\n",
       "       [ 4.30597125,  8.73426682,  5.43041448, 10.32843276,  3.97627417,\n",
       "         2.20070468],\n",
       "       [ 3.91768939,  8.03669959,  5.35667229,  9.49603409,  3.57845371,\n",
       "         1.9834642 ],\n",
       "       [ 3.57718414,  7.41901713,  5.31124096,  8.75869548,  3.23889998,\n",
       "         1.80014373],\n",
       "       [ 3.27842108,  6.87155399,  5.28917226,  8.10493574,  2.94958782,\n",
       "         1.64594611],\n",
       "       [ 3.01604345,  6.38585378,  5.28624744,  7.52470841,  2.70356786,\n",
       "         1.51672455],\n",
       "       [ 2.78566588,  5.95451512,  5.29887649,  7.00921899,  2.49482323,\n",
       "         1.40889621],\n",
       "       [ 2.58317941,  5.57105727,  5.32361795,  6.55050975,  2.31814622,\n",
       "         1.31944053],\n",
       "       [ 2.4050935 ,  5.22977389,  5.35869983,  6.14236786,  2.16903121,\n",
       "         1.24554291],\n",
       "       [ 2.24836296,  4.92575745,  5.40152296,  5.77859801,  2.04358159,\n",
       "         1.18496973],\n",
       "       [ 2.11033026,  4.65460562,  5.45024765,  5.45401214,  1.93843785,\n",
       "         1.13573652],\n",
       "       [ 1.98867569,  4.4124915 ,  5.50333153,  5.16405897,  1.8506914 ,\n",
       "         1.09613369],\n",
       "       [ 1.88137386,  4.19605613,  5.55948529,  4.9047428 ,  1.77781418,\n",
       "         1.06469002],\n",
       "       [ 1.78665593,  4.00234957,  5.61763619,  4.67255364,  1.71763767,\n",
       "         1.04014051],\n",
       "       [ 1.70297667,  3.8287795 ,  5.67689654,  4.46440631,  1.66829135,\n",
       "         1.02139858],\n",
       "       [ 1.62892363,  3.67306644,  5.73653659,  4.27758726,  1.62816292,\n",
       "         1.00753189],\n",
       "       [ 1.56344724,  3.53320467,  5.79551378,  4.10970823,  1.59586368,\n",
       "         0.99774138],\n",
       "       [ 1.50544657,  3.40742815,  5.85426722,  3.95844553,  1.57019847,\n",
       "         0.99147862],\n",
       "       [ 1.45401841,  3.29421162,  5.91194314,  3.82240227,  1.55013962,\n",
       "         0.98788418],\n",
       "       [ 1.40837286,  3.19212324,  5.9682347 ,  3.70256022,  1.53496705,\n",
       "         0.98659697],\n",
       "       [ 1.36781848,  3.09997979,  6.02290918,  3.60272507,  1.52360124,\n",
       "         0.98719382],\n",
       "       [ 1.33174969,  3.01671212,  6.07579201,  3.5112472 ,  1.51554751,\n",
       "         0.98931367],\n",
       "       [ 1.29963594,  2.94137483,  6.12675737,  3.4286988 ,  1.51025358,\n",
       "         0.99265027],\n",
       "       [ 1.27101215,  2.87313148,  6.17572   ,  3.35387789,  1.50724473,\n",
       "         0.99694451],\n",
       "       [ 1.24547046,  2.8112413 ,  6.22262834,  3.28598772,  1.5061158 ,\n",
       "         1.00197783],\n",
       "       [ 1.22206378,  2.75504768,  6.2637643 ,  3.22392228,  1.50652164,\n",
       "         1.00756646],\n",
       "       [ 1.19056657,  2.69611529,  6.30367043,  3.16787894,  1.50816882,\n",
       "         1.01355646],\n",
       "       [ 1.16317238,  2.63730708,  6.34404927,  3.11684406,  1.51080842,\n",
       "         1.00894203],\n",
       "       [ 1.13930258,  2.5844451 ,  6.38437606,  3.07032787,  1.50587825,\n",
       "         0.99579627],\n",
       "       [ 1.11857772,  2.53683831,  6.42430625,  3.02788573,  1.4827745 ,\n",
       "         0.98497549],\n",
       "       [ 1.10055012,  2.49397944,  6.46313087,  2.97125109,  1.46280477,\n",
       "         0.97995547],\n",
       "       [ 1.08486831,  2.45522417,  6.50152478,  2.9017903 ,  1.44556087,\n",
       "         0.9798803 ],\n",
       "       [ 1.07122692,  2.42019342,  6.58148034,  2.83871033,  1.43067945,\n",
       "         0.98080077],\n",
       "       [ 1.05936031,  2.38849181,  6.66164471,  2.7811945 ,  1.41784493,\n",
       "         0.98250885],\n",
       "       [ 1.04903747,  2.35976887,  6.7386241 ,  2.72868799,  1.40678339,\n",
       "         0.98484064],\n",
       "       [ 1.04005743,  2.33371416,  6.81231236,  2.68070576,  1.39755203,\n",
       "         0.98765789],\n",
       "       [ 1.03224541,  2.31005246,  6.88268448,  2.63681452,  1.38934351,\n",
       "         0.99084417],\n",
       "       [ 1.0254494 ,  2.28853952,  6.94974898,  2.59662691,  1.38227952,\n",
       "         0.99475257],\n",
       "       [ 1.01953715,  2.2603625 ,  7.01353755,  2.55979622,  1.36576094,\n",
       "         0.99971726],\n",
       "       [ 1.01435864,  2.22195363,  7.07411269,  2.52601175,  1.3413876 ,\n",
       "         1.00503368],\n",
       "       [ 0.99382255,  2.1874066 ,  7.13085632,  2.4767776 ,  1.32008706,\n",
       "         0.97888893],\n",
       "       [ 0.96001233,  2.15208773,  7.1852884 ,  2.41209866,  1.30169049,\n",
       "         0.95507769],\n",
       "       [ 0.92852924,  2.11806698,  7.2382877 ,  2.35347345,  1.28617166,\n",
       "         0.93449127],\n",
       "       [ 0.90043446,  2.0876306 ,  7.2925329 ,  2.3002825 ,  1.27284048,\n",
       "         0.91681744],\n",
       "       [ 0.87519449,  2.0599085 ,  7.34392502,  2.25288024,  1.26140265,\n",
       "         0.90160319],\n",
       "       [ 0.85271527,  2.03526617,  7.39247753,  2.21103919,  1.2513787 ,\n",
       "         0.88851227],\n",
       "       [ 0.83256649,  2.01303705,  7.43862569,  2.17354364,  1.24299998,\n",
       "         0.87725874],\n",
       "       [ 0.81448596,  1.99296384,  7.47358206,  2.13991162,  1.23584511,\n",
       "         0.86759437],\n",
       "       [ 0.79824179,  1.97481557,  7.50609103,  2.10931401,  1.22974162,\n",
       "         0.85930385],\n",
       "       [ 0.78362975,  1.95838797,  7.53791196,  2.08220192,  1.22454473,\n",
       "         0.85221832],\n",
       "       [ 0.77116791,  1.94325811,  7.56680091,  2.05778613,  1.21996367,\n",
       "         0.84612612],\n",
       "       [ 0.76192023,  1.92976657,  7.59406065,  2.03577944,  1.21868188,\n",
       "         0.84093161],\n",
       "       [ 0.75376728,  1.91751269,  7.62080033,  2.01592001,  1.217937  ,\n",
       "         0.83666989],\n",
       "       [ 0.74655253,  1.90636903,  7.64670881,  1.99764957,  1.21757468,\n",
       "         0.83422684],\n",
       "       [ 0.74004436,  1.89599435,  7.67249353,  1.981451  ,  1.21723683,\n",
       "         0.83242211],\n",
       "       [ 0.73438851,  1.886116  ,  7.69686186,  1.96677552,  1.21749534,\n",
       "         0.83104775],\n",
       "       [ 0.72936936,  1.87711176,  7.72034328,  1.95346807,  1.21797146,\n",
       "         0.82985169],\n",
       "       [ 0.7247884 ,  1.86892202,  7.74189691,  1.94138745,  1.21832632,\n",
       "         0.82915027],\n",
       "       [ 0.72083249,  1.86131217,  7.76197622,  1.92975962,  1.21934637,\n",
       "         0.82853047],\n",
       "       [ 0.71718034,  1.854529  ,  7.78081453,  1.91675785,  1.22041521,\n",
       "         0.82829427],\n",
       "       [ 0.71404934,  1.84818654,  7.79962702,  1.90485773,  1.22189846,\n",
       "         0.82808204],\n",
       "       [ 0.71112384,  1.84254326,  7.81751693,  1.89409392,  1.22329569,\n",
       "         0.82815557],\n",
       "       [ 0.70862166,  1.83724134,  7.83395023,  1.88546657,  1.22483202,\n",
       "         0.8281402 ],\n",
       "       [ 0.70656077,  1.83240924,  7.84922291,  1.87824801,  1.22629136,\n",
       "         0.82845371],\n",
       "       [ 0.70483625,  1.82907252,  7.86353522,  1.8717645 ,  1.22777849,\n",
       "         0.82976301],\n",
       "       [ 0.70332954,  1.82603218,  7.87726155,  1.86590127,  1.2293352 ,\n",
       "         0.83225172],\n",
       "       [ 0.70190598,  1.82328193,  7.8899778 ,  1.86065324,  1.23085863,\n",
       "         0.83415455],\n",
       "       [ 0.70069303,  1.8207971 ,  7.9017123 ,  1.85589888,  1.23225519,\n",
       "         0.83617353],\n",
       "       [ 0.69965171,  1.81841516,  7.91268637,  1.85160004,  1.23356861,\n",
       "         0.83885599],\n",
       "       [ 0.69872943,  1.81635995,  7.92310313,  1.84770967,  1.2349411 ,\n",
       "         0.84118273],\n",
       "       [ 0.69794152,  1.81452248,  7.93292249,  1.84415061,  1.23644167,\n",
       "         0.84333789],\n",
       "       [ 0.69709472,  1.81285532,  7.94191246,  1.84097125,  1.23860636,\n",
       "         0.84554818],\n",
       "       [ 0.69638693,  1.81130492,  7.95029171,  1.83807016,  1.24073041,\n",
       "         0.84770299],\n",
       "       [ 0.69570395,  1.8097301 ,  7.95811579,  1.83543002,  1.24276089,\n",
       "         0.84975136],\n",
       "       [ 0.69513122,  1.80840097,  7.96568993,  1.83302694,  1.24471126,\n",
       "         0.8515538 ],\n",
       "       [ 0.69465103,  1.80723317,  7.97258037,  1.83080206,  1.24659427,\n",
       "         0.85333338],\n",
       "       [ 0.69422869,  1.8061777 ,  7.97879761,  1.82881973,  1.24828358,\n",
       "         0.85507684],\n",
       "       [ 0.69386172,  1.80513911,  7.98503716,  1.82700125,  1.24993714,\n",
       "         0.85673186],\n",
       "       [ 0.69373965,  1.80422025,  7.99071685,  1.8253352 ,  1.25152441,\n",
       "         0.8582933 ],\n",
       "       [ 0.69362963,  1.80342589,  7.99592765,  1.82378004,  1.25305662,\n",
       "         0.85966785]])"
      ]
     },
     "execution_count": 63,
     "metadata": {},
     "output_type": "execute_result"
    }
   ],
   "source": [
    "LassoCV_model.mse_path_"
   ]
  },
  {
   "cell_type": "code",
   "execution_count": 64,
   "id": "eb34abc2",
   "metadata": {},
   "outputs": [
    {
     "data": {
      "image/png": "[encoded data removed]",
      "text/plain": [
       "<Figure size 640x480 with 1 Axes>"
      ]
     },
     "metadata": {},
     "output_type": "display_data"
    }
   ],
   "source": [
    "y_pred = lasso_reg.predict(X_test)\n",
    "plt.scatter(y_test, y_pred)\n",
    "plt.xlabel('Actual FWI')\n",
    "plt.ylabel('Predicted FWI')\n",
    "plt.title('Lasso Regression: Actual vs Predicted FWI')\n",
    "plt.show()\n"
   ]
  },
  {
   "cell_type": "code",
   "execution_count": 65,
   "id": "58c9d215",
   "metadata": {},
   "outputs": [
    {
     "name": "stdout",
     "output_type": "stream",
     "text": [
      "Mean Squared Error: 2.2483458918974772\n",
      "R^2 Score: 0.9492020263112388\n",
      "Mean Absolute Error: 1.133175994914409\n"
     ]
    }
   ],
   "source": [
    "# Evaluate the model\n",
    "mse = mean_squared_error(y_test, y_pred)\n",
    "r2 = r2_score(y_test, y_pred)\n",
    "mae = mean_absolute_error(y_test, y_pred)\n",
    "print(f'Mean Squared Error: {mse}')\n",
    "print(f'R^2 Score: {r2}')\n",
    "print(f'Mean Absolute Error: {mae}')"
   ]
  },
  {
   "cell_type": "code",
   "execution_count": 66,
   "id": "b8ba56bd",
   "metadata": {},
   "outputs": [
    {
     "data": {
      "image/png": "[encoded data removed]",
      "text/plain": [
       "<Figure size 640x480 with 1 Axes>"
      ]
     },
     "metadata": {},
     "output_type": "display_data"
    },
    {
     "name": "stdout",
     "output_type": "stream",
     "text": [
      "Mean Squared Error: 0.8222830416276261\n",
      "R^2 Score: 0.9814217587854941\n",
      "Mean Absolute Error: 0.65759467314309\n"
     ]
    }
   ],
   "source": [
    "from sklearn.linear_model import ElasticNetCV\n",
    "elastic_net_cv_model = ElasticNetCV(cv=5)\n",
    "elastic_net_cv_model.fit(X_train, y_train)\n",
    "y_pred_elastic_cv = elastic_net_cv_model.predict(X_test)\n",
    "plt.scatter(y_test, y_pred_elastic_cv)\n",
    "plt.xlabel('Actual FWI')\n",
    "plt.ylabel('Predicted FWI')\n",
    "plt.title('ElasticNet Regression: Actual vs Predicted FWI')\n",
    "plt.show()\n",
    "# Evaluate the model\n",
    "mse = mean_squared_error(y_test, y_pred_elastic_cv)\n",
    "r2 = r2_score(y_test, y_pred_elastic_cv)\n",
    "mae = mean_absolute_error(y_test, y_pred_elastic_cv)\n",
    "print(f'Mean Squared Error: {mse}')\n",
    "print(f'R^2 Score: {r2}')\n",
    "print(f'Mean Absolute Error: {mae}')\n"
   ]
  },
  {
   "cell_type": "code",
   "execution_count": 67,
   "id": "306abb76",
   "metadata": {},
   "outputs": [
    {
     "data": {
      "text/plain": [
       "array([14.11706004, 13.16561744, 12.27829889, 11.45078264, 10.67903821,\n",
       "        9.95930678,  9.28808283,  8.66209714,  8.07830078,  7.53385034,\n",
       "        7.02609405,  6.55255882,  6.11093829,  5.6990815 ,  5.31498248,\n",
       "        4.95677045,  4.62270071,  4.31114616,  4.02058933,  3.74961507,\n",
       "        3.49690356,  3.26122397,  3.04142839,  2.83644629,  2.64527931,\n",
       "        2.46699633,  2.30072904,  2.1456676 ,  2.00105679,  1.86619226,\n",
       "        1.74041714,  1.62311885,  1.51372607,  1.411706  ,  1.31656174,\n",
       "        1.22782989,  1.14507826,  1.06790382,  0.99593068,  0.92880828,\n",
       "        0.86620971,  0.80783008,  0.75338503,  0.7026094 ,  0.65525588,\n",
       "        0.61109383,  0.56990815,  0.53149825,  0.49567705,  0.46227007,\n",
       "        0.43111462,  0.40205893,  0.37496151,  0.34969036,  0.3261224 ,\n",
       "        0.30414284,  0.28364463,  0.26452793,  0.24669963,  0.2300729 ,\n",
       "        0.21456676,  0.20010568,  0.18661923,  0.17404171,  0.16231189,\n",
       "        0.15137261,  0.1411706 ,  0.13165617,  0.12278299,  0.11450783,\n",
       "        0.10679038,  0.09959307,  0.09288083,  0.08662097,  0.08078301,\n",
       "        0.0753385 ,  0.07026094,  0.06552559,  0.06110938,  0.05699082,\n",
       "        0.05314982,  0.0495677 ,  0.04622701,  0.04311146,  0.04020589,\n",
       "        0.03749615,  0.03496904,  0.03261224,  0.03041428,  0.02836446,\n",
       "        0.02645279,  0.02466996,  0.02300729,  0.02145668,  0.02001057,\n",
       "        0.01866192,  0.01740417,  0.01623119,  0.01513726,  0.01411706])"
      ]
     },
     "execution_count": 67,
     "metadata": {},
     "output_type": "execute_result"
    }
   ],
   "source": [
    "elastic_net_cv_model.alphas_"
   ]
  },
  {
   "cell_type": "code",
   "execution_count": 68,
   "id": "dcbaa408",
   "metadata": {},
   "outputs": [
    {
     "data": {
      "text/plain": [
       "np.float64(0.5)"
      ]
     },
     "execution_count": 68,
     "metadata": {},
     "output_type": "execute_result"
    }
   ],
   "source": [
    "elastic_net_cv_model.l1_ratio_"
   ]
  },
  {
   "cell_type": "code",
   "execution_count": 71,
   "id": "6e721aa5",
   "metadata": {},
   "outputs": [],
   "source": [
    "import pickle\n",
    "\n",
    "# Save the model\n",
    "pickle.dump(scaler, open('scaler.pkl', 'wb'))\n",
    "pickle.dump(ridge_cv_model, open('ridge_cv_model.pkl', 'wb'))\n"
   ]
  },
  {
   "cell_type": "code",
   "execution_count": null,
   "id": "cad0cfee",
   "metadata": {},
   "outputs": [],
   "source": []
  }
 ],
 "metadata": {
  "kernelspec": {
   "display_name": "venv",
   "language": "python",
   "name": "python3"
  },
  "language_info": {
   "codemirror_mode": {
    "name": "ipython",
    "version": 3
   },
   "file_extension": ".py",
   "mimetype": "text/x-python",
   "name": "python",
   "nbconvert_exporter": "python",
   "pygments_lexer": "ipython3",
   "version": "3.12.0"
  }
 },
 "nbformat": 4,
 "nbformat_minor": 5
}
